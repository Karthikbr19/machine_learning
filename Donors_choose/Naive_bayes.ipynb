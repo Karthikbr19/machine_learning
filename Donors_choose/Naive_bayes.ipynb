{
 "cells": [
  {
   "cell_type": "code",
   "execution_count": 1,
   "metadata": {},
   "outputs": [],
   "source": [
    "%matplotlib inline\n",
    "import warnings\n",
    "warnings.filterwarnings(\"ignore\")\n",
    "\n",
    "import pandas as pd\n",
    "import numpy as np\n",
    "import nltk\n",
    "import matplotlib.pyplot as plt\n",
    "import seaborn as sns\n",
    "from sklearn.feature_extraction.text import TfidfVectorizer\n",
    "from sklearn.feature_extraction.text import CountVectorizer\n",
    "from sklearn.metrics import confusion_matrix\n",
    "from sklearn import metrics\n",
    "from sklearn.metrics import roc_curve, auc\n",
    "\n",
    "import re\n",
    "# Tutorial about Python regular expressions: https://pymotw.com/2/re/\n",
    "\n",
    "import pickle\n",
    "from tqdm import tqdm\n",
    "import os\n",
    "\n",
    "\n",
    "from collections import Counter"
   ]
  },
  {
   "cell_type": "code",
   "execution_count": 2,
   "metadata": {},
   "outputs": [],
   "source": [
    "from sklearn.model_selection import RandomizedSearchCV"
   ]
  },
  {
   "cell_type": "code",
   "execution_count": 3,
   "metadata": {},
   "outputs": [],
   "source": [
    "from sklearn.model_selection import GridSearchCV\n",
    "from sklearn.naive_bayes import MultinomialNB\n",
    "import time\n",
    "from sklearn.metrics import roc_auc_score,make_scorer,accuracy_score"
   ]
  },
  {
   "cell_type": "code",
   "execution_count": 4,
   "metadata": {},
   "outputs": [],
   "source": [
    "from scipy.sparse import hstack"
   ]
  },
  {
   "cell_type": "code",
   "execution_count": 5,
   "metadata": {},
   "outputs": [],
   "source": [
    "from sklearn.metrics import roc_curve, auc\n"
   ]
  },
  {
   "cell_type": "code",
   "execution_count": 6,
   "metadata": {},
   "outputs": [
    {
     "data": {
      "text/html": [
       "<div>\n",
       "<style scoped>\n",
       "    .dataframe tbody tr th:only-of-type {\n",
       "        vertical-align: middle;\n",
       "    }\n",
       "\n",
       "    .dataframe tbody tr th {\n",
       "        vertical-align: top;\n",
       "    }\n",
       "\n",
       "    .dataframe thead th {\n",
       "        text-align: right;\n",
       "    }\n",
       "</style>\n",
       "<table border=\"1\" class=\"dataframe\">\n",
       "  <thead>\n",
       "    <tr style=\"text-align: right;\">\n",
       "      <th></th>\n",
       "      <th>school_state</th>\n",
       "      <th>teacher_prefix</th>\n",
       "      <th>project_grade_category</th>\n",
       "      <th>teacher_number_of_previously_posted_projects</th>\n",
       "      <th>project_is_approved</th>\n",
       "      <th>clean_categories</th>\n",
       "      <th>clean_subcategories</th>\n",
       "      <th>essay</th>\n",
       "      <th>price</th>\n",
       "    </tr>\n",
       "  </thead>\n",
       "  <tbody>\n",
       "    <tr>\n",
       "      <th>0</th>\n",
       "      <td>ca</td>\n",
       "      <td>mrs</td>\n",
       "      <td>grades_prek_2</td>\n",
       "      <td>53</td>\n",
       "      <td>1</td>\n",
       "      <td>math_science</td>\n",
       "      <td>appliedsciences health_lifescience</td>\n",
       "      <td>i fortunate enough use fairy tale stem kits cl...</td>\n",
       "      <td>725.05</td>\n",
       "    </tr>\n",
       "    <tr>\n",
       "      <th>1</th>\n",
       "      <td>ut</td>\n",
       "      <td>ms</td>\n",
       "      <td>grades_3_5</td>\n",
       "      <td>4</td>\n",
       "      <td>1</td>\n",
       "      <td>specialneeds</td>\n",
       "      <td>specialneeds</td>\n",
       "      <td>imagine 8 9 years old you third grade classroo...</td>\n",
       "      <td>213.03</td>\n",
       "    </tr>\n",
       "    <tr>\n",
       "      <th>2</th>\n",
       "      <td>ca</td>\n",
       "      <td>mrs</td>\n",
       "      <td>grades_prek_2</td>\n",
       "      <td>10</td>\n",
       "      <td>1</td>\n",
       "      <td>literacy_language</td>\n",
       "      <td>literacy</td>\n",
       "      <td>having class 24 students comes diverse learner...</td>\n",
       "      <td>329.00</td>\n",
       "    </tr>\n",
       "    <tr>\n",
       "      <th>3</th>\n",
       "      <td>ga</td>\n",
       "      <td>mrs</td>\n",
       "      <td>grades_prek_2</td>\n",
       "      <td>2</td>\n",
       "      <td>1</td>\n",
       "      <td>appliedlearning</td>\n",
       "      <td>earlydevelopment</td>\n",
       "      <td>i recently read article giving students choice...</td>\n",
       "      <td>481.04</td>\n",
       "    </tr>\n",
       "    <tr>\n",
       "      <th>4</th>\n",
       "      <td>wa</td>\n",
       "      <td>mrs</td>\n",
       "      <td>grades_3_5</td>\n",
       "      <td>2</td>\n",
       "      <td>1</td>\n",
       "      <td>literacy_language</td>\n",
       "      <td>literacy</td>\n",
       "      <td>my students crave challenge eat obstacles brea...</td>\n",
       "      <td>17.74</td>\n",
       "    </tr>\n",
       "  </tbody>\n",
       "</table>\n",
       "</div>"
      ],
      "text/plain": [
       "  school_state teacher_prefix project_grade_category  \\\n",
       "0           ca            mrs          grades_prek_2   \n",
       "1           ut             ms             grades_3_5   \n",
       "2           ca            mrs          grades_prek_2   \n",
       "3           ga            mrs          grades_prek_2   \n",
       "4           wa            mrs             grades_3_5   \n",
       "\n",
       "   teacher_number_of_previously_posted_projects  project_is_approved  \\\n",
       "0                                            53                    1   \n",
       "1                                             4                    1   \n",
       "2                                            10                    1   \n",
       "3                                             2                    1   \n",
       "4                                             2                    1   \n",
       "\n",
       "    clean_categories                 clean_subcategories  \\\n",
       "0       math_science  appliedsciences health_lifescience   \n",
       "1       specialneeds                        specialneeds   \n",
       "2  literacy_language                            literacy   \n",
       "3    appliedlearning                    earlydevelopment   \n",
       "4  literacy_language                            literacy   \n",
       "\n",
       "                                               essay   price  \n",
       "0  i fortunate enough use fairy tale stem kits cl...  725.05  \n",
       "1  imagine 8 9 years old you third grade classroo...  213.03  \n",
       "2  having class 24 students comes diverse learner...  329.00  \n",
       "3  i recently read article giving students choice...  481.04  \n",
       "4  my students crave challenge eat obstacles brea...   17.74  "
      ]
     },
     "execution_count": 6,
     "metadata": {},
     "output_type": "execute_result"
    }
   ],
   "source": [
    "data  = pd.read_csv('preprocessed_data.csv', nrows=50000)\n",
    "# data  = pd.read_csv('preprocessed_data.csv', nrows=50000) # you can take less number of rows like this\n",
    "data.head(5)"
   ]
  },
  {
   "cell_type": "code",
   "execution_count": 7,
   "metadata": {},
   "outputs": [
    {
     "data": {
      "text/plain": [
       "1    41993\n",
       "0     8007\n",
       "Name: project_is_approved, dtype: int64"
      ]
     },
     "execution_count": 7,
     "metadata": {},
     "output_type": "execute_result"
    }
   ],
   "source": [
    "data['project_is_approved'].value_counts()"
   ]
  },
  {
   "cell_type": "code",
   "execution_count": 8,
   "metadata": {},
   "outputs": [],
   "source": [
    "y = data['project_is_approved'].values\n",
    "X = data.drop(['project_is_approved'], axis=1)"
   ]
  },
  {
   "cell_type": "code",
   "execution_count": 9,
   "metadata": {},
   "outputs": [],
   "source": [
    "# train test split\n",
    "from sklearn.model_selection import train_test_split\n",
    "X_train, X_test, y_train, y_test = train_test_split(X, y, test_size=0.33, stratify=y)"
   ]
  },
  {
   "cell_type": "code",
   "execution_count": 10,
   "metadata": {},
   "outputs": [
    {
     "data": {
      "text/plain": [
       "(33500, 8)"
      ]
     },
     "execution_count": 10,
     "metadata": {},
     "output_type": "execute_result"
    }
   ],
   "source": [
    "X_train.shape"
   ]
  },
  {
   "cell_type": "markdown",
   "metadata": {},
   "source": [
    "# Vectorizer function: Converting words to bag of words(BOW)"
   ]
  },
  {
   "cell_type": "code",
   "execution_count": 11,
   "metadata": {},
   "outputs": [],
   "source": [
    "class word_converter():\n",
    "    def __init__(self,data_frame,feature_name):\n",
    "        self.data_fr = data_frame\n",
    "        self.feature_convert = feature_name\n",
    "        self.min_df = 10\n",
    "        self.n_gram_range = (1,4)\n",
    "        self.max_features = 10000\n",
    "    \n",
    "    def fit_data_bow(self):\n",
    "        #self.vectorizer = CountVectorizer(min_df=self.min_df,ngram_range=self.n_gram_range,max_features=self.max_features)\n",
    "        self.vectorizer = CountVectorizer(min_df=self.min_df,ngram_range=self.n_gram_range,max_features=self.max_features)\n",
    "        self.vectorizer.fit(self.data_fr[self.feature_convert].values)        \n",
    "\n",
    "    def fit_data_tfidf(self):\n",
    "        self.n_gram_range = (1,4)\n",
    "        self.vectorizer = TfidfVectorizer(min_df=self.min_df,ngram_range=self.n_gram_range,max_features=self.max_features)\n",
    "        self.vectorizer.fit(self.data_fr[self.feature_convert].values)        \n",
    "        \n",
    "    def to_vectorized(self,text_values):\n",
    "        return self.vectorizer.transform(text_values)\n",
    "\n",
    "    def get_fitted_feature_names(self):\n",
    "        return self.vectorizer.get_feature_names()\n",
    "    "
   ]
  },
  {
   "cell_type": "code",
   "execution_count": 12,
   "metadata": {},
   "outputs": [],
   "source": [
    "# List for capturing features\n",
    "feature_importance_list=[]"
   ]
  },
  {
   "cell_type": "markdown",
   "metadata": {},
   "source": [
    "### Vector encoding for school location(state)"
   ]
  },
  {
   "cell_type": "code",
   "execution_count": 13,
   "metadata": {},
   "outputs": [],
   "source": [
    "school_obj = word_converter(X_train,'school_state')\n",
    "school_obj.fit_data_bow()\n",
    "state_feature_names = school_obj.get_fitted_feature_names()\n",
    "\n",
    "x_train_state_ohe = school_obj.to_vectorized(X_train['school_state'].values)\n",
    "#x_cv_state_ohe = school_obj.to_vectorized(X_cv['school_state'].values)\n",
    "x_test_state_ohe = school_obj.to_vectorized(X_test['school_state'].values)"
   ]
  },
  {
   "cell_type": "code",
   "execution_count": 14,
   "metadata": {},
   "outputs": [],
   "source": [
    "feature_importance_list.extend(state_feature_names)"
   ]
  },
  {
   "cell_type": "markdown",
   "metadata": {},
   "source": [
    "### Vector encoding for teacher prefix"
   ]
  },
  {
   "cell_type": "code",
   "execution_count": 15,
   "metadata": {},
   "outputs": [],
   "source": [
    "teacher_prefix_obj = word_converter(X_train,'teacher_prefix')\n",
    "teacher_prefix_obj.fit_data_bow()\n",
    "teacher_prefix_feature_names = teacher_prefix_obj.get_fitted_feature_names()\n",
    "\n",
    "x_train_teacher_prefix_ohe = teacher_prefix_obj.to_vectorized(X_train['teacher_prefix'].values)\n",
    "#x_cv_teacher_prefix_ohe = teacher_prefix_obj.to_vectorized(X_cv['teacher_prefix'].values)\n",
    "x_test_teacher_prefix_ohe = teacher_prefix_obj.to_vectorized(X_test['teacher_prefix'].values)"
   ]
  },
  {
   "cell_type": "code",
   "execution_count": 16,
   "metadata": {},
   "outputs": [],
   "source": [
    "feature_importance_list.extend(teacher_prefix_feature_names)\n",
    "#len(feature_importance_list)"
   ]
  },
  {
   "cell_type": "markdown",
   "metadata": {},
   "source": [
    "### Vector encoding for grades"
   ]
  },
  {
   "cell_type": "code",
   "execution_count": 17,
   "metadata": {},
   "outputs": [],
   "source": [
    "grade_category_obj = word_converter(X_train,'project_grade_category')\n",
    "grade_category_obj.fit_data_bow()\n",
    "grade_category_feature_names = grade_category_obj.get_fitted_feature_names()\n",
    "\n",
    "x_train_grade_category_ohe = grade_category_obj.to_vectorized(X_train['project_grade_category'].values)\n",
    "#x_cv_grade_category_ohe = grade_category_obj.to_vectorized(X_cv['project_grade_category'].values)\n",
    "x_test_grade_category_ohe = grade_category_obj.to_vectorized(X_test['project_grade_category'].values)"
   ]
  },
  {
   "cell_type": "code",
   "execution_count": 18,
   "metadata": {},
   "outputs": [],
   "source": [
    "feature_importance_list.extend(grade_category_feature_names)\n",
    "#len(feature_importance_list)"
   ]
  },
  {
   "cell_type": "markdown",
   "metadata": {},
   "source": [
    "### Vector encoding for clean_categories"
   ]
  },
  {
   "cell_type": "code",
   "execution_count": 19,
   "metadata": {},
   "outputs": [],
   "source": [
    "clean_category_obj = word_converter(X_train,'clean_categories')\n",
    "clean_category_obj.fit_data_bow()\n",
    "clean_category_feature_names = clean_category_obj.get_fitted_feature_names()\n",
    "\n",
    "x_train_clean_category_ohe = clean_category_obj.to_vectorized(X_train['clean_categories'].values)\n",
    "#x_cv_clean_category_ohe = clean_category_obj.to_vectorized(X_cv['clean_categories'].values)\n",
    "x_test_clean_category_ohe = clean_category_obj.to_vectorized(X_test['clean_categories'].values)"
   ]
  },
  {
   "cell_type": "code",
   "execution_count": 20,
   "metadata": {},
   "outputs": [],
   "source": [
    "feature_importance_list.extend(clean_category_feature_names)\n",
    "#len(feature_importance_list)"
   ]
  },
  {
   "cell_type": "markdown",
   "metadata": {},
   "source": [
    "### Vector encoding for clean_subcategories"
   ]
  },
  {
   "cell_type": "code",
   "execution_count": 21,
   "metadata": {},
   "outputs": [],
   "source": [
    "clean_sub_category_obj = word_converter(X_train,'clean_subcategories')\n",
    "clean_sub_category_obj.fit_data_bow()\n",
    "clean_sub_category_feature_names = clean_sub_category_obj.get_fitted_feature_names()\n",
    "\n",
    "x_train_clean_sub_category_ohe = clean_sub_category_obj.to_vectorized(X_train['clean_subcategories'].values)\n",
    "#x_cv_clean_sub_category_ohe = clean_sub_category_obj.to_vectorized(X_cv['clean_subcategories'].values)\n",
    "x_test_clean_sub_category_ohe = clean_sub_category_obj.to_vectorized(X_test['clean_subcategories'].values)"
   ]
  },
  {
   "cell_type": "code",
   "execution_count": 22,
   "metadata": {},
   "outputs": [],
   "source": [
    "feature_importance_list.extend(clean_sub_category_feature_names)\n",
    "#len(feature_importance_list)"
   ]
  },
  {
   "cell_type": "markdown",
   "metadata": {},
   "source": [
    "### Vector encoding for Essay - BOW"
   ]
  },
  {
   "cell_type": "code",
   "execution_count": 23,
   "metadata": {},
   "outputs": [],
   "source": [
    "essay_obj = word_converter(X_train,'essay')\n",
    "essay_obj.fit_data_bow()\n",
    "essay_bow_feature_names = essay_obj.get_fitted_feature_names()\n",
    "\n",
    "x_train_essay_bow_ohe = essay_obj.to_vectorized(X_train['essay'].values)\n",
    "#x_cv_essay_bow_ohe = essay_obj.to_vectorized(X_cv['essay'].values)\n",
    "x_test_essay_bow_ohe = essay_obj.to_vectorized(X_test['essay'].values)"
   ]
  },
  {
   "cell_type": "markdown",
   "metadata": {},
   "source": [
    "### Vector encoding for Essay - TFIDF"
   ]
  },
  {
   "cell_type": "code",
   "execution_count": 24,
   "metadata": {},
   "outputs": [],
   "source": [
    "essay_tfidf_obj = word_converter(X_train,'essay')\n",
    "essay_tfidf_obj.fit_data_tfidf()\n",
    "essay_tfidf_feature_names = essay_tfidf_obj.get_fitted_feature_names()\n",
    "\n",
    "x_train_essay_tfidf_ohe = essay_tfidf_obj.to_vectorized(X_train['essay'].values)\n",
    "#x_cv_essay_tfidf_ohe = essay_tfidf_obj.to_vectorized(X_cv['essay'].values)\n",
    "x_test_essay_tfidf_ohe = essay_tfidf_obj.to_vectorized(X_test['essay'].values)"
   ]
  },
  {
   "cell_type": "markdown",
   "metadata": {},
   "source": [
    "# Numerical features conversion"
   ]
  },
  {
   "cell_type": "code",
   "execution_count": 25,
   "metadata": {},
   "outputs": [
    {
     "name": "stdout",
     "output_type": "stream",
     "text": [
      "After vectorizations\n",
      "(1, 33500) (33500,)\n",
      "(1, 16500) (16500,)\n",
      "====================================================================================================\n"
     ]
    }
   ],
   "source": [
    "from sklearn.preprocessing import Normalizer\n",
    "normalizer = Normalizer()\n",
    "normalizer.fit(X_train['price'].values.reshape(1,-1))\n",
    "X_train_price_norm = normalizer.transform(X_train['price'].values.reshape(1,-1))\n",
    "#X_cv_price_norm = normalizer.transform(X_cv['price'].values.reshape(1,-1))\n",
    "X_test_price_norm = normalizer.transform(X_test['price'].values.reshape(1,-1))\n",
    "\n",
    "print(\"After vectorizations\")\n",
    "print(X_train_price_norm.shape, y_train.shape)\n",
    "#print(X_cv_price_norm.shape, y_cv.shape)\n",
    "print(X_test_price_norm.shape, y_test.shape)\n",
    "print(\"=\"*100)"
   ]
  },
  {
   "cell_type": "code",
   "execution_count": 26,
   "metadata": {},
   "outputs": [
    {
     "name": "stdout",
     "output_type": "stream",
     "text": [
      "After vectorizations\n",
      "(1, 33500) (33500,)\n",
      "(1, 16500) (16500,)\n",
      "====================================================================================================\n"
     ]
    }
   ],
   "source": [
    "from sklearn.preprocessing import Normalizer\n",
    "normalizer = Normalizer()\n",
    "normalizer.fit(X_train['teacher_number_of_previously_posted_projects'].values.reshape(1,-1))\n",
    "X_train_ttl_projs_tchr = normalizer.transform(X_train['teacher_number_of_previously_posted_projects'].values.reshape(1,-1))\n",
    "#X_cv_ttl_projs_tchr = normalizer.transform(X_cv['teacher_number_of_previously_posted_projects'].values.reshape(1,-1))\n",
    "X_test_ttl_projs_tchr = normalizer.transform(X_test['teacher_number_of_previously_posted_projects'].values.reshape(1,-1))\n",
    "\n",
    "print(\"After vectorizations\")\n",
    "print(X_train_ttl_projs_tchr.shape, y_train.shape)\n",
    "#print(X_cv_ttl_projs_tchr.shape, y_cv.shape)\n",
    "print(X_test_ttl_projs_tchr.shape, y_test.shape)\n",
    "print(\"=\"*100)"
   ]
  },
  {
   "cell_type": "markdown",
   "metadata": {},
   "source": [
    "# Concatenating all features - Set 1"
   ]
  },
  {
   "cell_type": "code",
   "execution_count": 27,
   "metadata": {},
   "outputs": [],
   "source": [
    "X_train_set_1 = hstack((x_train_state_ohe,x_train_teacher_prefix_ohe,x_train_grade_category_ohe,x_train_clean_category_ohe,x_train_clean_sub_category_ohe,x_train_essay_bow_ohe)).tocsr()\n",
    "\n",
    "#X_cv_set_1 = hstack((x_cv_state_ohe,x_cv_teacher_prefix_ohe,x_cv_grade_category_ohe,x_cv_clean_category_ohe,x_cv_clean_sub_category_ohe,x_cv_essay_bow_ohe)).tocsr()\n",
    "\n",
    "X_test_set_1 = hstack((x_test_state_ohe,x_test_teacher_prefix_ohe,x_test_grade_category_ohe,x_test_clean_category_ohe,x_test_clean_sub_category_ohe,x_test_essay_bow_ohe)).tocsr()"
   ]
  },
  {
   "cell_type": "code",
   "execution_count": 28,
   "metadata": {},
   "outputs": [
    {
     "name": "stdout",
     "output_type": "stream",
     "text": [
      "Final Data matrix\n",
      "(33500, 10275) (33500,)\n",
      "(16500, 10275) (16500,)\n",
      "====================================================================================================\n"
     ]
    }
   ],
   "source": [
    "print(\"Final Data matrix\")\n",
    "print(X_train_set_1.shape, y_train.shape)\n",
    "#print(X_cv_set_1.shape, y_cv.shape)\n",
    "print(X_test_set_1.shape, y_test.shape)\n",
    "print(\"=\"*100)"
   ]
  },
  {
   "cell_type": "markdown",
   "metadata": {},
   "source": [
    "# Concatenating all features - Set 2"
   ]
  },
  {
   "cell_type": "code",
   "execution_count": 29,
   "metadata": {},
   "outputs": [],
   "source": [
    "X_train_set_2 = hstack((x_train_state_ohe,x_train_teacher_prefix_ohe,x_train_grade_category_ohe,x_train_clean_category_ohe,x_train_clean_sub_category_ohe,x_train_essay_tfidf_ohe)).tocsr()\n",
    "\n",
    "#X_cv_set_2 = hstack((x_cv_state_ohe,x_cv_teacher_prefix_ohe,x_cv_grade_category_ohe,x_cv_clean_category_ohe,x_cv_clean_sub_category_ohe,x_cv_essay_tfidf_ohe)).tocsr()\n",
    "\n",
    "X_test_set_2 = hstack((x_test_state_ohe,x_test_teacher_prefix_ohe,x_test_grade_category_ohe,x_test_clean_category_ohe,x_test_clean_sub_category_ohe,x_test_essay_tfidf_ohe)).tocsr()\n",
    "\n",
    "# y_train, y_cv"
   ]
  },
  {
   "cell_type": "code",
   "execution_count": 30,
   "metadata": {},
   "outputs": [
    {
     "name": "stdout",
     "output_type": "stream",
     "text": [
      "Final Data matrix\n",
      "(33500, 10275) (33500,)\n",
      "(16500, 10275) (16500,)\n",
      "====================================================================================================\n"
     ]
    }
   ],
   "source": [
    "print(\"Final Data matrix\")\n",
    "print(X_train_set_2.shape, y_train.shape)\n",
    "#print(X_cv_set_2.shape, y_cv.shape)\n",
    "print(X_test_set_2.shape, y_test.shape)\n",
    "print(\"=\"*100)"
   ]
  },
  {
   "cell_type": "code",
   "execution_count": 31,
   "metadata": {},
   "outputs": [],
   "source": [
    "from sklearn.naive_bayes import MultinomialNB"
   ]
  },
  {
   "cell_type": "code",
   "execution_count": 32,
   "metadata": {},
   "outputs": [],
   "source": [
    "def batch_predict(clf, data):\n",
    "    # roc_auc_score(y_true, y_score) the 2nd parameter should be probability estimates of the positive class\n",
    "    # not the predicted outputs\n",
    "    y_data_pred = []\n",
    "    tr_loop = data.shape[0] - data.shape[0]%1000\n",
    "    # consider you X_tr shape is 49041, then your tr_loop will be 49041 - 49041%1000 = 49000\n",
    "    # in this for loop we will iterate unti the last 1000 multiplier\n",
    "    for i in range(0, tr_loop, 1000):\n",
    "        y_data_pred.extend(clf.predict_proba(data[i:i+1000])[:,1])\n",
    "    # we will be predicting for the last data points\n",
    "    if data.shape[0]%1000 !=0:\n",
    "        y_data_pred.extend(clf.predict_proba(data[tr_loop:])[:,1])\n",
    "    \n",
    "    return y_data_pred"
   ]
  },
  {
   "cell_type": "code",
   "execution_count": 33,
   "metadata": {},
   "outputs": [],
   "source": [
    "def plot_hyper_auc(results):\n",
    "    plt.figure(figsize=(20,10))\n",
    "    train_auc= results['mean_train_score']\n",
    "    train_auc_std= results['std_train_score']\n",
    "    cv_auc = results['mean_test_score'] \n",
    "    cv_auc_std= results['std_test_score']\n",
    "    alpha_params_vals =  results['param_alpha']\n",
    "\n",
    "    plt.plot(alpha_params_vals, train_auc, label='Train AUC')\n",
    "    plt.plot(alpha_params_vals, cv_auc, label='CV AUC')\n",
    "\n",
    "    plt.scatter(alpha_params_vals, train_auc, label='Train AUC points')\n",
    "    plt.scatter(alpha_params_vals, cv_auc, label='CV AUC points')\n",
    "\n",
    "\n",
    "    plt.legend()\n",
    "    plt.xlabel(\"Alpha: hyperparameter\")\n",
    "    plt.ylabel(\"AUC\")\n",
    "    plt.title(\"Hyper parameter Vs AUC plot\")\n",
    "    plt.grid()\n",
    "    plt.show()"
   ]
  },
  {
   "cell_type": "code",
   "execution_count": 34,
   "metadata": {},
   "outputs": [
    {
     "data": {
      "text/plain": [
       "1    41993\n",
       "0     8007\n",
       "Name: project_is_approved, dtype: int64"
      ]
     },
     "execution_count": 34,
     "metadata": {},
     "output_type": "execute_result"
    }
   ],
   "source": [
    "data['project_is_approved'].value_counts()"
   ]
  },
  {
   "cell_type": "code",
   "execution_count": null,
   "metadata": {},
   "outputs": [],
   "source": []
  },
  {
   "cell_type": "code",
   "execution_count": 35,
   "metadata": {},
   "outputs": [],
   "source": [
    "# intial_alpha=0.00001\n",
    "# alpha_list_values=[0.00001,0.0005, 0.0001,0.005,0.001,0.05,0.01,0.1,0.5,1,5,10,50,100]\n",
    "# scoring=make_scorer(roc_auc_score)\n",
    "\n",
    "    \n",
    "# print(alpha_list_values)"
   ]
  },
  {
   "cell_type": "code",
   "execution_count": null,
   "metadata": {},
   "outputs": [],
   "source": []
  },
  {
   "cell_type": "code",
   "execution_count": null,
   "metadata": {},
   "outputs": [],
   "source": []
  },
  {
   "cell_type": "markdown",
   "metadata": {},
   "source": [
    "## Note: In this assignment it was mentioned to use alpha values b/w :\n",
    "[0.00001,0.0005, 0.0001,0.005,0.001,0.05,0.01,0.1,0.5,1,5,10,50,100]\n",
    "\n",
    "But i found that alpha lies between 0 and 2, hence taking the same"
   ]
  },
  {
   "cell_type": "code",
   "execution_count": 36,
   "metadata": {},
   "outputs": [
    {
     "name": "stdout",
     "output_type": "stream",
     "text": [
      "[1e-05, 0.20001000000000002, 0.40001000000000003, 0.60001, 0.8000100000000001, 1.00001, 1.20001, 1.40001, 1.60001, 1.8000099999999999]\n"
     ]
    }
   ],
   "source": [
    "intial_alpha=0.00001\n",
    "alpha_list_values=[]\n",
    "scoring=make_scorer(roc_auc_score)\n",
    "while intial_alpha<=2:\n",
    "    alpha_list_values.append(intial_alpha)\n",
    "    intial_alpha+=0.20\n",
    "#alpha_list_values=[0.00001,0.0005, 0.0001,0.005,0.001,0.05,0.01,0.1,0.5,1,5,10,50,100]    \n",
    "print(alpha_list_values)"
   ]
  },
  {
   "cell_type": "code",
   "execution_count": null,
   "metadata": {},
   "outputs": [],
   "source": []
  },
  {
   "cell_type": "markdown",
   "metadata": {},
   "source": [
    "## Using prior values\n",
    "(0.25,0.75),(0.5,0.5),(0.75,0.25)"
   ]
  },
  {
   "cell_type": "code",
   "execution_count": 37,
   "metadata": {},
   "outputs": [
    {
     "name": "stdout",
     "output_type": "stream",
     "text": [
      "Fitting 5 folds for each of 60 candidates, totalling 300 fits\n"
     ]
    },
    {
     "name": "stderr",
     "output_type": "stream",
     "text": [
      "[Parallel(n_jobs=1)]: Using backend SequentialBackend with 1 concurrent workers.\n"
     ]
    },
    {
     "name": "stdout",
     "output_type": "stream",
     "text": [
      "Best Score and params: 0.690648 using {'alpha': 0.20001000000000002, 'class_prior': (0.25, 0.75), 'fit_prior': 'True'}\n"
     ]
    },
    {
     "name": "stderr",
     "output_type": "stream",
     "text": [
      "[Parallel(n_jobs=1)]: Done 300 out of 300 | elapsed:   23.1s finished\n"
     ]
    }
   ],
   "source": [
    "grid_parms={'alpha':alpha_list_values,'class_prior':[(0.25,0.75),(0.5,0.5),(0.75,0.25)],'fit_prior':['True','False']}\n",
    "\n",
    "multi_nb_gs = GridSearchCV(MultinomialNB(),grid_parms,verbose=True,scoring = 'roc_auc',return_train_score=True)\n",
    "nb_gs_result = multi_nb_gs.fit(X_train_set_1,y_train)\n",
    "\n",
    "print(\"Best Score and params: %f using %s\" % (nb_gs_result.best_score_, nb_gs_result.best_params_))\n"
   ]
  },
  {
   "cell_type": "code",
   "execution_count": 38,
   "metadata": {},
   "outputs": [],
   "source": [
    "results = pd.DataFrame.from_dict(multi_nb_gs.cv_results_)"
   ]
  },
  {
   "cell_type": "code",
   "execution_count": 39,
   "metadata": {},
   "outputs": [
    {
     "data": {
      "image/png": "[encoded data removed]",
      "text/plain": [
       "<Figure size 1440x720 with 1 Axes>"
      ]
     },
     "metadata": {
      "needs_background": "light"
     },
     "output_type": "display_data"
    }
   ],
   "source": [
    "plot_hyper_auc(results)"
   ]
  },
  {
   "cell_type": "code",
   "execution_count": 40,
   "metadata": {},
   "outputs": [
    {
     "name": "stdout",
     "output_type": "stream",
     "text": [
      "Using grid serach we found that alpha is maximum at  0.20001000000000002\n"
     ]
    }
   ],
   "source": [
    "print(\"Using grid serach we found that alpha is maximum at \",nb_gs_result.best_params_['alpha'])"
   ]
  },
  {
   "cell_type": "code",
   "execution_count": 41,
   "metadata": {},
   "outputs": [],
   "source": [
    "best_alpha_bow = nb_gs_result.best_params_['alpha']"
   ]
  },
  {
   "cell_type": "code",
   "execution_count": 42,
   "metadata": {},
   "outputs": [],
   "source": [
    "best_prior_flag = nb_gs_result.best_params_['fit_prior']"
   ]
  },
  {
   "cell_type": "code",
   "execution_count": 43,
   "metadata": {},
   "outputs": [],
   "source": [
    "best_prior_vals = nb_gs_result.best_params_['class_prior']"
   ]
  },
  {
   "cell_type": "code",
   "execution_count": 44,
   "metadata": {},
   "outputs": [],
   "source": [
    "multi_nb_best = MultinomialNB(alpha=best_alpha_bow,class_prior=best_prior_vals,fit_prior=best_prior_flag)\n",
    "multi_nb_best.fit(X_train_set_1, y_train)\n",
    "\n",
    "y_train_pred = batch_predict(multi_nb_best, X_train_set_1)    \n",
    "y_test_pred = batch_predict(multi_nb_best, X_test_set_1)\n",
    "\n",
    "train_fpr, train_tpr, tr_thresholds = roc_curve(y_train, y_train_pred)\n",
    "test_fpr, test_tpr, te_thresholds = roc_curve(y_test, y_test_pred)"
   ]
  },
  {
   "cell_type": "code",
   "execution_count": 45,
   "metadata": {},
   "outputs": [],
   "source": [
    "roc_auc_bow_test = auc(test_fpr, test_tpr)"
   ]
  },
  {
   "cell_type": "code",
   "execution_count": 46,
   "metadata": {},
   "outputs": [
    {
     "data": {
      "image/png": "[encoded data removed]",
      "text/plain": [
       "<Figure size 1440x720 with 1 Axes>"
      ]
     },
     "metadata": {
      "needs_background": "light"
     },
     "output_type": "display_data"
    }
   ],
   "source": [
    "plt.figure(figsize=(20,10))\n",
    "plt.plot(train_fpr, train_tpr, label=\"train AUC =\"+str(auc(train_fpr, train_tpr)))\n",
    "plt.plot(test_fpr, test_tpr, label=\"test AUC =\"+str(auc(test_fpr, test_tpr)))\n",
    "plt.legend()\n",
    "plt.xlabel(\"FPR\")\n",
    "plt.ylabel(\"TPR\")\n",
    "plt.title(\"ERROR PLOTS\")\n",
    "plt.grid()\n",
    "plt.show()"
   ]
  },
  {
   "cell_type": "code",
   "execution_count": 47,
   "metadata": {},
   "outputs": [],
   "source": [
    "# we are writing our own function for predict, with defined thresould\n",
    "# we will pick a threshold that will give the least fpr\n",
    "def find_best_threshold(threshould, fpr, tpr):\n",
    "    t = threshould[np.argmax(tpr*(1-fpr))]\n",
    "    # (tpr*(1-fpr)) will be maximum if your fpr is very low and tpr is very high\n",
    "    print(\"the maximum value of tpr*(1-fpr)\", max(tpr*(1-fpr)), \"for threshold\", np.round(t,3))\n",
    "    return t\n",
    "\n",
    "def predict_with_best_t(proba, threshould):\n",
    "    predictions = []\n",
    "    for i in proba:\n",
    "        if i>=threshould:\n",
    "            predictions.append(1)\n",
    "        else:\n",
    "            predictions.append(0)\n",
    "    return predictions"
   ]
  },
  {
   "cell_type": "code",
   "execution_count": 48,
   "metadata": {},
   "outputs": [
    {
     "name": "stdout",
     "output_type": "stream",
     "text": [
      "====================================================================================================\n",
      "the maximum value of tpr*(1-fpr) 0.4931075126896996 for threshold 0.835\n"
     ]
    }
   ],
   "source": [
    "print(\"=\"*100)\n",
    "best_t = find_best_threshold(tr_thresholds, train_fpr, train_tpr)"
   ]
  },
  {
   "cell_type": "code",
   "execution_count": 49,
   "metadata": {},
   "outputs": [
    {
     "data": {
      "image/png": "[encoded data removed]",
      "text/plain": [
       "<Figure size 432x288 with 2 Axes>"
      ]
     },
     "metadata": {},
     "output_type": "display_data"
    }
   ],
   "source": [
    "confusion_matrix_train = confusion_matrix(y_train, predict_with_best_t(y_train_pred, best_t))\n",
    "sns.set(font_scale=1);\n",
    "ax = sns.heatmap(confusion_matrix_train, annot=True,annot_kws={\"size\": 14},fmt='g');\n",
    "ax.set_xlabel('Actual');\n",
    "ax.set_ylabel('Predicted');\n",
    "ax.set_title('Confusion Matrix for BOW');\n",
    "ax.xaxis.set_ticklabels(['False','True']);\n",
    "ax.yaxis.set_ticklabels(['False','True']);"
   ]
  },
  {
   "cell_type": "code",
   "execution_count": 50,
   "metadata": {},
   "outputs": [
    {
     "name": "stdout",
     "output_type": "stream",
     "text": [
      "Test confusion matrix\n"
     ]
    }
   ],
   "source": [
    "print(\"Test confusion matrix\")\n",
    "confusion_matrix_test = confusion_matrix(y_test, predict_with_best_t(y_test_pred, best_t))"
   ]
  },
  {
   "cell_type": "code",
   "execution_count": 51,
   "metadata": {},
   "outputs": [
    {
     "data": {
      "image/png": "[encoded data removed]",
      "text/plain": [
       "<Figure size 432x288 with 2 Axes>"
      ]
     },
     "metadata": {},
     "output_type": "display_data"
    }
   ],
   "source": [
    "sns.set(font_scale=1);\n",
    "ax = sns.heatmap(confusion_matrix_test, annot=True,annot_kws={\"size\": 14},fmt='g');\n",
    "ax.set_xlabel('Actual');\n",
    "ax.set_ylabel('Predicted');\n",
    "ax.set_title('Confusion Matrix for BOW');\n",
    "ax.xaxis.set_ticklabels(['False','True']);\n",
    "ax.yaxis.set_ticklabels(['False','True']);"
   ]
  },
  {
   "cell_type": "code",
   "execution_count": 52,
   "metadata": {},
   "outputs": [],
   "source": [
    "#print('Accuracy Score: ',accuracy_score(y_test, predict_with_best_t(y_test_pred, best_t)))"
   ]
  },
  {
   "cell_type": "markdown",
   "metadata": {},
   "source": [
    "### TFIDF"
   ]
  },
  {
   "cell_type": "markdown",
   "metadata": {},
   "source": [
    "Reusing the previous grid params"
   ]
  },
  {
   "cell_type": "code",
   "execution_count": 53,
   "metadata": {},
   "outputs": [
    {
     "name": "stdout",
     "output_type": "stream",
     "text": [
      "{'alpha': [1e-05, 0.20001000000000002, 0.40001000000000003, 0.60001, 0.8000100000000001, 1.00001, 1.20001, 1.40001, 1.60001, 1.8000099999999999], 'class_prior': [(0.25, 0.75), (0.5, 0.5), (0.75, 0.25)], 'fit_prior': ['True', 'False']}\n"
     ]
    }
   ],
   "source": [
    "print(grid_parms)"
   ]
  },
  {
   "cell_type": "code",
   "execution_count": 54,
   "metadata": {},
   "outputs": [
    {
     "name": "stdout",
     "output_type": "stream",
     "text": [
      "Fitting 5 folds for each of 60 candidates, totalling 300 fits\n"
     ]
    },
    {
     "name": "stderr",
     "output_type": "stream",
     "text": [
      "[Parallel(n_jobs=1)]: Using backend SequentialBackend with 1 concurrent workers.\n",
      "[Parallel(n_jobs=1)]: Done 300 out of 300 | elapsed:   21.8s finished\n"
     ]
    }
   ],
   "source": [
    "multi_nb_tfidf_gs = GridSearchCV(MultinomialNB(),grid_parms,verbose=True,scoring='roc_auc',return_train_score=True)\n",
    "nb_tfidf_gs_result = multi_nb_tfidf_gs.fit(X_train_set_2,y_train)"
   ]
  },
  {
   "cell_type": "code",
   "execution_count": 55,
   "metadata": {},
   "outputs": [
    {
     "name": "stdout",
     "output_type": "stream",
     "text": [
      "Best Score and params: 0.659561 using {'alpha': 1e-05, 'class_prior': (0.25, 0.75), 'fit_prior': 'True'}\n"
     ]
    }
   ],
   "source": [
    "print(\"Best Score and params: %f using %s\" % (nb_tfidf_gs_result.best_score_,nb_tfidf_gs_result.best_params_))"
   ]
  },
  {
   "cell_type": "code",
   "execution_count": 56,
   "metadata": {},
   "outputs": [],
   "source": [
    "results = pd.DataFrame.from_dict(multi_nb_tfidf_gs.cv_results_)"
   ]
  },
  {
   "cell_type": "code",
   "execution_count": 57,
   "metadata": {},
   "outputs": [
    {
     "data": {
      "image/png": "[encoded data removed]",
      "text/plain": [
       "<Figure size 1440x720 with 1 Axes>"
      ]
     },
     "metadata": {},
     "output_type": "display_data"
    }
   ],
   "source": [
    "plot_hyper_auc(results)"
   ]
  },
  {
   "cell_type": "code",
   "execution_count": 58,
   "metadata": {},
   "outputs": [
    {
     "name": "stdout",
     "output_type": "stream",
     "text": [
      "Using grid serach we found that alpha is maimum at  1e-05\n"
     ]
    }
   ],
   "source": [
    "print(\"Using grid serach we found that alpha is maimum at \",nb_tfidf_gs_result.best_params_['alpha'])"
   ]
  },
  {
   "cell_type": "code",
   "execution_count": 59,
   "metadata": {},
   "outputs": [],
   "source": [
    "best_alpha_tfidf = nb_tfidf_gs_result.best_params_['alpha']"
   ]
  },
  {
   "cell_type": "code",
   "execution_count": 60,
   "metadata": {},
   "outputs": [],
   "source": [
    "best_prior_flag = nb_tfidf_gs_result.best_params_['fit_prior']"
   ]
  },
  {
   "cell_type": "code",
   "execution_count": 61,
   "metadata": {},
   "outputs": [],
   "source": [
    "best_prior_vals = nb_tfidf_gs_result.best_params_['class_prior']"
   ]
  },
  {
   "cell_type": "code",
   "execution_count": 62,
   "metadata": {},
   "outputs": [],
   "source": [
    "multi_nb_tfidf_best = MultinomialNB(alpha=best_alpha_tfidf,class_prior=best_prior_vals,fit_prior=best_prior_flag)\n",
    "multi_nb_tfidf_best.fit(X_train_set_2, y_train)\n",
    "\n",
    "y_train_pred = batch_predict(multi_nb_tfidf_best, X_train_set_2)    \n",
    "y_test_pred = batch_predict(multi_nb_tfidf_best, X_test_set_2)\n",
    "\n",
    "train_fpr, train_tpr, tr_thresholds = roc_curve(y_train, y_train_pred)\n",
    "test_fpr, test_tpr, te_thresholds = roc_curve(y_test, y_test_pred)"
   ]
  },
  {
   "cell_type": "code",
   "execution_count": 63,
   "metadata": {},
   "outputs": [],
   "source": [
    "roc_auc_tfidf_test = auc(test_fpr, test_tpr)"
   ]
  },
  {
   "cell_type": "code",
   "execution_count": 64,
   "metadata": {},
   "outputs": [
    {
     "data": {
      "image/png": "[encoded data removed]",
      "text/plain": [
       "<Figure size 1440x720 with 1 Axes>"
      ]
     },
     "metadata": {},
     "output_type": "display_data"
    }
   ],
   "source": [
    "plt.figure(figsize=(20,10))\n",
    "plt.plot(train_fpr, train_tpr, label=\"train AUC =\"+str(auc(train_fpr, train_tpr)))\n",
    "plt.plot(test_fpr, test_tpr, label=\"train AUC =\"+str(auc(test_fpr, test_tpr)))\n",
    "plt.legend()\n",
    "plt.xlabel(\"K: hyperparameter\")\n",
    "plt.ylabel(\"AUC\")\n",
    "plt.title(\"ERROR PLOTS\")\n",
    "plt.grid()\n",
    "plt.show()"
   ]
  },
  {
   "cell_type": "code",
   "execution_count": 65,
   "metadata": {},
   "outputs": [
    {
     "name": "stdout",
     "output_type": "stream",
     "text": [
      "====================================================================================================\n",
      "the maximum value of tpr*(1-fpr) 0.45915455885955264 for threshold 0.763\n",
      "Train confusion matrix\n"
     ]
    }
   ],
   "source": [
    "print(\"=\"*100)\n",
    "best_t = find_best_threshold(tr_thresholds, train_fpr, train_tpr)\n",
    "\n",
    "print(\"Train confusion matrix\")\n",
    "confusion_matrix_train = confusion_matrix(y_train, predict_with_best_t(y_train_pred, best_t))"
   ]
  },
  {
   "cell_type": "code",
   "execution_count": 66,
   "metadata": {},
   "outputs": [
    {
     "data": {
      "image/png": "[encoded data removed]",
      "text/plain": [
       "<Figure size 432x288 with 2 Axes>"
      ]
     },
     "metadata": {},
     "output_type": "display_data"
    }
   ],
   "source": [
    "sns.set(font_scale=1);\n",
    "ax = sns.heatmap(confusion_matrix_train, annot=True,annot_kws={\"size\": 14},fmt='g');\n",
    "ax.set_xlabel('Actual');\n",
    "ax.set_ylabel('Predicted');\n",
    "ax.set_title('Confusion Matrix for BOW');\n",
    "ax.xaxis.set_ticklabels(['False','True']);\n",
    "ax.yaxis.set_ticklabels(['False','True']);"
   ]
  },
  {
   "cell_type": "code",
   "execution_count": 67,
   "metadata": {},
   "outputs": [
    {
     "name": "stdout",
     "output_type": "stream",
     "text": [
      "Test confusion matrix\n"
     ]
    }
   ],
   "source": [
    "print(\"Test confusion matrix\")\n",
    "confusion_matrix_test = confusion_matrix(y_test, predict_with_best_t(y_test_pred, best_t))"
   ]
  },
  {
   "cell_type": "code",
   "execution_count": 68,
   "metadata": {},
   "outputs": [
    {
     "data": {
      "image/png": "[encoded data removed]",
      "text/plain": [
       "<Figure size 432x288 with 2 Axes>"
      ]
     },
     "metadata": {},
     "output_type": "display_data"
    }
   ],
   "source": [
    "sns.set(font_scale=1);\n",
    "ax = sns.heatmap(confusion_matrix_test, annot=True,annot_kws={\"size\": 14},fmt='g');\n",
    "ax.set_xlabel('Actual');\n",
    "ax.set_ylabel('Predicted');\n",
    "ax.set_title('Confusion Matrix for BOW');\n",
    "ax.xaxis.set_ticklabels(['False','True']);\n",
    "ax.yaxis.set_ticklabels(['False','True']);"
   ]
  },
  {
   "cell_type": "code",
   "execution_count": null,
   "metadata": {},
   "outputs": [],
   "source": []
  },
  {
   "cell_type": "code",
   "execution_count": null,
   "metadata": {},
   "outputs": [],
   "source": []
  },
  {
   "cell_type": "code",
   "execution_count": null,
   "metadata": {},
   "outputs": [],
   "source": []
  },
  {
   "cell_type": "markdown",
   "metadata": {},
   "source": [
    "### Feature importance BOW"
   ]
  },
  {
   "cell_type": "code",
   "execution_count": 69,
   "metadata": {},
   "outputs": [],
   "source": [
    "feature_importance_bow = feature_importance_list\n",
    "feature_importance_bow.extend(essay_bow_feature_names)"
   ]
  },
  {
   "cell_type": "code",
   "execution_count": 70,
   "metadata": {},
   "outputs": [
    {
     "name": "stdout",
     "output_type": "stream",
     "text": [
      "Important features : \n",
      "\n",
      "['able' 'day' 'use' 'need' 'we' 'reading' 'work' 'nannan' 'many' 'help'\n",
      " 'my students' 'learn' 'they' 'not' 'the' 'classroom' 'learning' 'my'\n",
      " 'school' 'students']\n"
     ]
    }
   ],
   "source": [
    "pos_index=multi_nb_best.feature_log_prob_[1, :].argsort()\n",
    "pos_features=np.take(feature_importance_bow,pos_index[-20:])\n",
    "print(\"Important features : \\n\")\n",
    "print(pos_features)"
   ]
  },
  {
   "cell_type": "markdown",
   "metadata": {},
   "source": [
    "### Feature importance TFIDF"
   ]
  },
  {
   "cell_type": "code",
   "execution_count": 71,
   "metadata": {},
   "outputs": [],
   "source": [
    "feature_importance_list_tfidf = feature_importance_list\n",
    "feature_importance_list_tfidf.extend(essay_tfidf_feature_names)"
   ]
  },
  {
   "cell_type": "code",
   "execution_count": 72,
   "metadata": {},
   "outputs": [
    {
     "name": "stdout",
     "output_type": "stream",
     "text": [
      "Important features : \n",
      "\n",
      "['mr' 'grades_9_12' 'appliedlearning' 'students' 'specialneeds'\n",
      " 'specialneeds' 'literacy_language math_science' 'health_wellness' 'ca'\n",
      " 'grades_6_8' 'health_sports' 'literature_writing' 'mathematics'\n",
      " 'literacy' 'grades_3_5' 'ms' 'math_science' 'grades_prek_2'\n",
      " 'literacy_language' 'mrs']\n"
     ]
    }
   ],
   "source": [
    "pos_index=multi_nb_tfidf_best.feature_log_prob_[1, :].argsort()\n",
    "pos_features=np.take(feature_importance_list_tfidf,pos_index[-20:])\n",
    "print(\"Important features : \\n\")\n",
    "print(pos_features)"
   ]
  },
  {
   "cell_type": "code",
   "execution_count": 73,
   "metadata": {},
   "outputs": [
    {
     "name": "stdout",
     "output_type": "stream",
     "text": [
      "+------------------------------+-------+---------------------+--------------------+\n",
      "|          Vectorizor          | Model |   Hyper Parameter   |      Test AUC      |\n",
      "+------------------------------+-------+---------------------+--------------------+\n",
      "|  BOW using Multinominal NB   | Brute | 0.20001000000000002 | 0.6945652885234019 |\n",
      "| TF-IDF using Multinominal NB | Brute |        1e-05        | 0.6623876118200731 |\n",
      "+------------------------------+-------+---------------------+--------------------+\n"
     ]
    }
   ],
   "source": [
    "#http://zetcode.com/python/prettytable/\n",
    "from prettytable import PrettyTable\n",
    "x = PrettyTable()\n",
    "\n",
    "x.field_names = [\"Vectorizor\", \"Model\",\"Hyper Parameter\",\"Test AUC\"]\n",
    "x.add_row([\"BOW using Multinominal NB\",\"Brute\",best_alpha_bow,roc_auc_bow_test])\n",
    "x.add_row([\"TF-IDF using Multinominal NB\",\"Brute\",best_alpha_tfidf,roc_auc_tfidf_test])\n",
    "\n",
    "print(x)"
   ]
  }
 ],
 "metadata": {
  "kernelspec": {
   "display_name": "Python 3",
   "language": "python",
   "name": "python3"
  },
  "language_info": {
   "codemirror_mode": {
    "name": "ipython",
    "version": 3
   },
   "file_extension": ".py",
   "mimetype": "text/x-python",
   "name": "python",
   "nbconvert_exporter": "python",
   "pygments_lexer": "ipython3",
   "version": "3.8.5"
  }
 },
 "nbformat": 4,
 "nbformat_minor": 4
}
